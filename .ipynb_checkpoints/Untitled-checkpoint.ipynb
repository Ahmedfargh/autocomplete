{
 "cells": [
  {
   "cell_type": "code",
   "execution_count": 1,
   "id": "442dfb19",
   "metadata": {},
   "outputs": [],
   "source": [
    "import pandas as pd"
   ]
  },
  {
   "cell_type": "code",
   "execution_count": 9,
   "id": "ec0bb462",
   "metadata": {},
   "outputs": [],
   "source": [
    "dFrames=[\n",
    "    pd.read_csv(\"benchmarking_data//Train//AddToPlaylist.csv\"),\n",
    "    pd.read_csv(\"benchmarking_data//Train//BookRestaurant.csv.csv\"),\n",
    "    pd.read_csv(\"benchmarking_data//Train//GetWeather.csv.csv\"),\n",
    "    pd.read_csv(\"benchmarking_data//Train//PlayMusic.csv.csv\"),\n",
    "    pd.read_csv(\"benchmarking_data//Train//RateBook.csv\"),\n",
    "    pd.read_csv(\"benchmarking_data//Train//SearchCreativeWork.csv\"),\n",
    "    pd.read_csv(\"benchmarking_data//Train//SearchScreeningEvent.csv\")\n",
    "]"
   ]
  },
  {
   "cell_type": "code",
   "execution_count": 11,
   "id": "af4f9a75",
   "metadata": {},
   "outputs": [],
   "source": [
    "result=pd.concat(dFrames)\n",
    "result.to_csv(\"total_train.csv\")"
   ]
  },
  {
   "cell_type": "code",
   "execution_count": null,
   "id": "5b68d36d",
   "metadata": {},
   "outputs": [],
   "source": [
    "dFrames=[\n",
    "    pd.read_csv(\"benchmarking_data//Validate//AddToPlaylist.csv.csv\"),\n",
    "    pd.read_csv(\"benchmarking_data//Validate//BookRestaurant.csv.csv\"),\n",
    "    pd.read_csv(\"benchmarking_data//Validate//GetWeather.csv\"),\n",
    "    pd.read_csv(\"benchmarking_data//Validate//SearchScreeningEvent.csv.csv\")\n",
    "]"
   ]
  },
  {
   "cell_type": "code",
   "execution_count": null,
   "id": "c29c6972",
   "metadata": {},
   "outputs": [],
   "source": []
  },
  {
   "cell_type": "code",
   "execution_count": null,
   "id": "e76fc53f",
   "metadata": {},
   "outputs": [],
   "source": []
  },
  {
   "cell_type": "code",
   "execution_count": null,
   "id": "556c202b",
   "metadata": {},
   "outputs": [],
   "source": []
  },
  {
   "cell_type": "code",
   "execution_count": null,
   "id": "916bbfac",
   "metadata": {},
   "outputs": [],
   "source": []
  },
  {
   "cell_type": "code",
   "execution_count": null,
   "id": "3088fec3",
   "metadata": {},
   "outputs": [],
   "source": []
  },
  {
   "cell_type": "code",
   "execution_count": null,
   "id": "bbd6620f",
   "metadata": {},
   "outputs": [],
   "source": []
  },
  {
   "cell_type": "code",
   "execution_count": null,
   "id": "9d2cbf65",
   "metadata": {},
   "outputs": [],
   "source": []
  },
  {
   "cell_type": "code",
   "execution_count": null,
   "id": "42d457fb",
   "metadata": {},
   "outputs": [],
   "source": []
  },
  {
   "cell_type": "code",
   "execution_count": 89,
   "id": "10e9e3ca",
   "metadata": {},
   "outputs": [],
   "source": []
  },
  {
   "cell_type": "code",
   "execution_count": 90,
   "id": "fdba4bd9",
   "metadata": {},
   "outputs": [],
   "source": []
  },
  {
   "cell_type": "code",
   "execution_count": 91,
   "id": "7df84480",
   "metadata": {},
   "outputs": [],
   "source": []
  },
  {
   "cell_type": "code",
   "execution_count": 92,
   "id": "55e1af69",
   "metadata": {},
   "outputs": [],
   "source": []
  },
  {
   "cell_type": "code",
   "execution_count": 93,
   "id": "e622efcb",
   "metadata": {},
   "outputs": [],
   "source": []
  },
  {
   "cell_type": "code",
   "execution_count": 94,
   "id": "b4f7f25a",
   "metadata": {},
   "outputs": [],
   "source": []
  },
  {
   "cell_type": "code",
   "execution_count": 95,
   "id": "1d6d4c66",
   "metadata": {},
   "outputs": [],
   "source": []
  },
  {
   "cell_type": "code",
   "execution_count": 96,
   "id": "cc995942",
   "metadata": {},
   "outputs": [],
   "source": []
  },
  {
   "cell_type": "code",
   "execution_count": 104,
   "id": "84b85765",
   "metadata": {},
   "outputs": [],
   "source": []
  },
  {
   "cell_type": "code",
   "execution_count": null,
   "id": "1f8a61ef",
   "metadata": {},
   "outputs": [],
   "source": []
  },
  {
   "cell_type": "code",
   "execution_count": null,
   "id": "6e3f445d",
   "metadata": {},
   "outputs": [],
   "source": []
  }
 ],
 "metadata": {
  "kernelspec": {
   "display_name": "Python 3",
   "language": "python",
   "name": "python3"
  },
  "language_info": {
   "codemirror_mode": {
    "name": "ipython",
    "version": 3
   },
   "file_extension": ".py",
   "mimetype": "text/x-python",
   "name": "python",
   "nbconvert_exporter": "python",
   "pygments_lexer": "ipython3",
   "version": "3.8.8"
  }
 },
 "nbformat": 4,
 "nbformat_minor": 5
}
