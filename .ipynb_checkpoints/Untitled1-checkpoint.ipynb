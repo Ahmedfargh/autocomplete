{
 "cells": [
  {
   "cell_type": "code",
   "execution_count": 1,
   "id": "2761d27b",
   "metadata": {},
   "outputs": [],
   "source": [
    "import nltk\n",
    "import pandas as pd\n",
    "from collections import Counter\n",
    "from nltk.tokenize import TreebankWordTokenizer\n",
    "from nltk import ngrams\n",
    "import random\n",
    "import numpy as np"
   ]
  },
  {
   "cell_type": "code",
   "execution_count": 2,
   "id": "4e4dead4",
   "metadata": {},
   "outputs": [
    {
     "data": {
      "text/html": [
       "<div>\n",
       "<style scoped>\n",
       "    .dataframe tbody tr th:only-of-type {\n",
       "        vertical-align: middle;\n",
       "    }\n",
       "\n",
       "    .dataframe tbody tr th {\n",
       "        vertical-align: top;\n",
       "    }\n",
       "\n",
       "    .dataframe thead th {\n",
       "        text-align: right;\n",
       "    }\n",
       "</style>\n",
       "<table border=\"1\" class=\"dataframe\">\n",
       "  <thead>\n",
       "    <tr style=\"text-align: right;\">\n",
       "      <th></th>\n",
       "      <th>Unnamed: 0</th>\n",
       "      <th>Unnamed: 0.1</th>\n",
       "      <th>total_string</th>\n",
       "    </tr>\n",
       "  </thead>\n",
       "  <tbody>\n",
       "    <tr>\n",
       "      <th>0</th>\n",
       "      <td>0</td>\n",
       "      <td>0</td>\n",
       "      <td>Add another song to the Cita Romantica playlist.</td>\n",
       "    </tr>\n",
       "    <tr>\n",
       "      <th>1</th>\n",
       "      <td>1</td>\n",
       "      <td>1</td>\n",
       "      <td>add clem burke in my playlist Pre-Party R&amp;B Jams</td>\n",
       "    </tr>\n",
       "    <tr>\n",
       "      <th>2</th>\n",
       "      <td>2</td>\n",
       "      <td>2</td>\n",
       "      <td>Add Live from Aragon Ballroom to Trapeo</td>\n",
       "    </tr>\n",
       "    <tr>\n",
       "      <th>3</th>\n",
       "      <td>3</td>\n",
       "      <td>3</td>\n",
       "      <td>add Unite and Win to my night out</td>\n",
       "    </tr>\n",
       "    <tr>\n",
       "      <th>4</th>\n",
       "      <td>4</td>\n",
       "      <td>4</td>\n",
       "      <td>Add track to my Digster Future Hits</td>\n",
       "    </tr>\n",
       "    <tr>\n",
       "      <th>...</th>\n",
       "      <td>...</td>\n",
       "      <td>...</td>\n",
       "      <td>...</td>\n",
       "    </tr>\n",
       "    <tr>\n",
       "      <th>13779</th>\n",
       "      <td>1954</td>\n",
       "      <td>1954</td>\n",
       "      <td>Can a I get the movie schedule for Sympathy fo...</td>\n",
       "    </tr>\n",
       "    <tr>\n",
       "      <th>13780</th>\n",
       "      <td>1955</td>\n",
       "      <td>1955</td>\n",
       "      <td>Find movie schedules for animated movies aroun...</td>\n",
       "    </tr>\n",
       "    <tr>\n",
       "      <th>13781</th>\n",
       "      <td>1956</td>\n",
       "      <td>1956</td>\n",
       "      <td>what time is Bordertown Trail showing</td>\n",
       "    </tr>\n",
       "    <tr>\n",
       "      <th>13782</th>\n",
       "      <td>1957</td>\n",
       "      <td>1957</td>\n",
       "      <td>in the neighbourhood find movies with movie times</td>\n",
       "    </tr>\n",
       "    <tr>\n",
       "      <th>13783</th>\n",
       "      <td>1958</td>\n",
       "      <td>1958</td>\n",
       "      <td>What cinema has the closest movies</td>\n",
       "    </tr>\n",
       "  </tbody>\n",
       "</table>\n",
       "<p>13784 rows × 3 columns</p>\n",
       "</div>"
      ],
      "text/plain": [
       "       Unnamed: 0  Unnamed: 0.1  \\\n",
       "0               0             0   \n",
       "1               1             1   \n",
       "2               2             2   \n",
       "3               3             3   \n",
       "4               4             4   \n",
       "...           ...           ...   \n",
       "13779        1954          1954   \n",
       "13780        1955          1955   \n",
       "13781        1956          1956   \n",
       "13782        1957          1957   \n",
       "13783        1958          1958   \n",
       "\n",
       "                                            total_string  \n",
       "0      Add another song to the Cita Romantica playlist.   \n",
       "1       add clem burke in my playlist Pre-Party R&B Jams  \n",
       "2                Add Live from Aragon Ballroom to Trapeo  \n",
       "3                      add Unite and Win to my night out  \n",
       "4                    Add track to my Digster Future Hits  \n",
       "...                                                  ...  \n",
       "13779  Can a I get the movie schedule for Sympathy fo...  \n",
       "13780  Find movie schedules for animated movies aroun...  \n",
       "13781              what time is Bordertown Trail showing  \n",
       "13782  in the neighbourhood find movies with movie times  \n",
       "13783                 What cinema has the closest movies  \n",
       "\n",
       "[13784 rows x 3 columns]"
      ]
     },
     "execution_count": 2,
     "metadata": {},
     "output_type": "execute_result"
    }
   ],
   "source": [
    "dataset_train=pd.read_csv(\"total_train.csv\")\n",
    "dataset_train"
   ]
  },
  {
   "cell_type": "code",
   "execution_count": 3,
   "id": "57d13b7b",
   "metadata": {},
   "outputs": [],
   "source": [
    "class Preprocessor:\n",
    "    def __init__(self):\n",
    "        self.tokenizer=TreebankWordTokenizer()\n",
    "    def tokenize(self,text):\n",
    "        return self.tokenizer.tokenize(text.lower())\n",
    "    def get_ngram(self,text):\n",
    "        return list(ngrams(self.tokenizer.tokenize(text.lower()),2))"
   ]
  },
  {
   "cell_type": "code",
   "execution_count": 4,
   "id": "2c767f2b",
   "metadata": {},
   "outputs": [],
   "source": [
    "processor=Preprocessor()\n",
    "dataset_train[\"bigram\"]=dataset_train[\"total_string\"].map(processor.get_ngram)"
   ]
  },
  {
   "cell_type": "code",
   "execution_count": 5,
   "id": "90373841",
   "metadata": {},
   "outputs": [
    {
     "data": {
      "text/plain": [
       "[('add', 'another'),\n",
       " ('another', 'song'),\n",
       " ('song', 'to'),\n",
       " ('to', 'the'),\n",
       " ('the', 'cita'),\n",
       " ('cita', 'romantica'),\n",
       " ('romantica', 'playlist'),\n",
       " ('playlist', '.')]"
      ]
     },
     "execution_count": 5,
     "metadata": {},
     "output_type": "execute_result"
    }
   ],
   "source": [
    "dataset_train[\"bigram\"][0]"
   ]
  },
  {
   "cell_type": "code",
   "execution_count": 6,
   "id": "85370cc5",
   "metadata": {},
   "outputs": [],
   "source": [
    "class HMM:\n",
    "    def __init__(self,datatrain):\n",
    "        self.train_data=datatrain\n",
    "        self._counter={}\n",
    "        self.processor=Preprocessor()\n",
    "    def is_trained(self):\n",
    "        return len(self.counter)==0\n",
    "    def train(self):\n",
    "        for data in self.train_data:\n",
    "            for bigram in data:\n",
    "                if bigram[0] in self._counter.keys():\n",
    "                    if bigram[1] in self._counter[bigram[0]].keys():\n",
    "                        self._counter[bigram[0]][bigram[1]]+=1\n",
    "                    else:\n",
    "                        self._counter[bigram[0]][bigram[1]]=1 \n",
    "                    continue\n",
    "                else:\n",
    "                    self._counter[bigram[0]]={bigram[1]:1}\n",
    "                    continue\n",
    "        return True\n",
    "    def get_counter(self):\n",
    "        return self._counter\n",
    "    def predict_next_word(self,sent):\n",
    "        bigram=self.processor.get_ngram(sent)\n",
    "        last_one=bigram[len(bigram)-1]\n",
    "        sencond_words_list=self._counter[last_one[1]]\n",
    "        if len(sencond_words_list)==0:\n",
    "            self._counter[last_one[1]]={}\n",
    "            return {\"next_word\":\" \",\"prob\":1}\n",
    "        indicator={}\n",
    "        first_word_counter=0\n",
    "        best_choise=self._counter[last_one[1]][list(self._counter[last_one[1]].keys())[0]]\n",
    "        best_word=list(self._counter[last_one[1]].keys())[3]\n",
    "        for word in list(self._counter[last_one[1]].keys()):\n",
    "            first_word_counter+=self._counter[last_one[1]][word]\n",
    "        _words=[]\n",
    "        _probs=[]\n",
    "        for word in list(sencond_words_list.keys()):\n",
    "            if sencond_words_list[word]> sencond_words_list[best_word]:\n",
    "                best_word=word\n",
    "                best_choise=sencond_words_list[best_word]\n",
    "                if not word in _words:                    \n",
    "                    _words.append(best_word)\n",
    "                    _probs.append(best_choise/first_word_counter)\n",
    "        i=0\n",
    "        while i<4:\n",
    "            random_word=random.choice(list(sencond_words_list.keys()))\n",
    "            _words.append(random_word)\n",
    "            _probs.append(sencond_words_list[random_word]/first_word_counter)\n",
    "            i+=1\n",
    "        return {\"next_word\":best_word,\"prob\":best_choise/first_word_counter},_words,_probs\n",
    "    def predict_next_word_given_first_letters(self,sent):\n",
    "        sent=sent.lower().split(\" \")\n",
    "        last_word_list=self._counter[sent[len(sent)-2]]\n",
    "        first_char=sent[len(sent)-1]\n",
    "        candidate={}\n",
    "        counting=0\n",
    "        for word in list(last_word_list.keys()):\n",
    "            if word.startswith(first_char):\n",
    "                candidate[word]=last_word_list[word]\n",
    "            counting+=1\n",
    "        if len(candidate)==0:\n",
    "            return \"undefined_word\"\n",
    "        best_choise=candidate[list(candidate.keys())[0]]\n",
    "        best_word=list(candidate.keys())[0]\n",
    "        _words=[]\n",
    "        _probs=[]\n",
    "        for word in list(candidate.keys()):\n",
    "            if best_choise<candidate[word]:\n",
    "                print(candidate[word])\n",
    "                best_word=word\n",
    "                best_choise=candidate[word]\n",
    "                _words.append(best_word)\n",
    "                _probs.append(best_choise/counting)\n",
    "        prob=best_choise/counting\n",
    "        i=0\n",
    "        while i<4:\n",
    "            random_word=random.choice(list(candidate.keys()))\n",
    "            _words.append(random_word)\n",
    "            _probs.append(candidate[random_word]/counting)\n",
    "            i+=1\n",
    "        return {\"next_word\":best_word,\"prob\":prob},_words,_probs"
   ]
  },
  {
   "cell_type": "code",
   "execution_count": 7,
   "id": "febfc645",
   "metadata": {},
   "outputs": [],
   "source": [
    "hmm=HMM(dataset_train[\"bigram\"].values)"
   ]
  },
  {
   "cell_type": "code",
   "execution_count": 8,
   "id": "14981a86",
   "metadata": {},
   "outputs": [
    {
     "data": {
      "text/plain": [
       "True"
      ]
     },
     "execution_count": 8,
     "metadata": {},
     "output_type": "execute_result"
    }
   ],
   "source": [
    "hmm.train()"
   ]
  },
  {
   "cell_type": "code",
   "execution_count": 20,
   "id": "506154fe",
   "metadata": {},
   "outputs": [
    {
     "name": "stdout",
     "output_type": "stream",
     "text": [
      "{'next_word': 'playlist', 'prob': 0.10293066476054324}\n"
     ]
    }
   ],
   "source": [
    "predict=hmm.predict_next_word(\"Add Live from Aragon Ballroom to my\")\n",
    "print(predict[0])"
   ]
  },
  {
   "cell_type": "code",
   "execution_count": 18,
   "id": "d5767bf3",
   "metadata": {},
   "outputs": [
    {
     "name": "stdout",
     "output_type": "stream",
     "text": [
      "({'next_word': 'out', 'prob': 0.16216216216216217}, ['on', 'of', 'on', 'of'], [0.05405405405405406, 0.10810810810810811, 0.05405405405405406, 0.10810810810810811])\n"
     ]
    }
   ],
   "source": [
    "predict1=hmm.predict_next_word_given_first_letters(\"add Unite and Win to my night o\")\n",
    "print(predict1)"
   ]
  },
  {
   "cell_type": "code",
   "execution_count": 21,
   "id": "af1e85f7",
   "metadata": {},
   "outputs": [
    {
     "data": {
      "image/png": "[encoded data removed]",
      "text/plain": [
       "<Figure size 432x288 with 1 Axes>"
      ]
     },
     "metadata": {
      "needs_background": "light"
     },
     "output_type": "display_data"
    }
   ],
   "source": [
    "import matplotlib.pyplot as plt\n",
    "x =predict[1]\n",
    "y =predict[2]\n",
    "fig, ax = plt.subplots()\n",
    "ax.bar(x, y, width=0.5, edgecolor=\"black\", linewidth=0.1)\n",
    "plt.title(\"comparison between best word and some random words\")\n",
    "plt.show()"
   ]
  },
  {
   "cell_type": "code",
   "execution_count": 16,
   "id": "2358937b",
   "metadata": {},
   "outputs": [
    {
     "data": {
      "image/png": "[encoded data removed]",
      "text/plain": [
       "<Figure size 432x288 with 1 Axes>"
      ]
     },
     "metadata": {
      "needs_background": "light"
     },
     "output_type": "display_data"
    }
   ],
   "source": [
    "import matplotlib.pyplot as plt\n",
    "x =predict1[1]\n",
    "y =predict1[2]\n",
    "fig, ax = plt.subplots()\n",
    "ax.bar(x, y, width=0.5, edgecolor=\"black\", linewidth=0.1)\n",
    "plt.title(\"comparison between best word and some random words(givien first letters)\")\n",
    "plt.show()"
   ]
  },
  {
   "cell_type": "code",
   "execution_count": null,
   "id": "5bcb7aac",
   "metadata": {},
   "outputs": [],
   "source": []
  },
  {
   "cell_type": "code",
   "execution_count": null,
   "id": "3fa553c3",
   "metadata": {},
   "outputs": [],
   "source": []
  },
  {
   "cell_type": "code",
   "execution_count": null,
   "id": "f6052319",
   "metadata": {},
   "outputs": [],
   "source": []
  }
 ],
 "metadata": {
  "kernelspec": {
   "display_name": "Python 3",
   "language": "python",
   "name": "python3"
  },
  "language_info": {
   "codemirror_mode": {
    "name": "ipython",
    "version": 3
   },
   "file_extension": ".py",
   "mimetype": "text/x-python",
   "name": "python",
   "nbconvert_exporter": "python",
   "pygments_lexer": "ipython3",
   "version": "3.8.8"
  }
 },
 "nbformat": 4,
 "nbformat_minor": 5
}
